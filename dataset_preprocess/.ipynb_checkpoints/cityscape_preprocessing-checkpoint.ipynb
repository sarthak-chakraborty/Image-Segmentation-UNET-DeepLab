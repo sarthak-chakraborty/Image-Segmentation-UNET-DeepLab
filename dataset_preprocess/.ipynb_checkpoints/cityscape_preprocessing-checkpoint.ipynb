{
 "cells": [
  {
   "cell_type": "code",
   "execution_count": null,
   "metadata": {},
   "outputs": [],
   "source": [
    "import os\n",
    "from PIL import Image\n",
    "import numpy as np"
   ]
  },
  {
   "cell_type": "code",
   "execution_count": null,
   "metadata": {},
   "outputs": [],
   "source": [
    "IMAGE_DIR = './leftImg8bit/'\n",
    "FINE_ANN_DIR = './gtFine/'\n",
    "COARSE_ANN_DIR = './gtCoarse/'\n",
    "\n",
    "OUT_PATH = os.getcwd()\n",
    "parent_folder = os.path.join(OUT_PATH, 'data')\n",
    "if not os.path.exists(parent_folder):\n",
    "    os.mkdir(parent_folder)\n",
    "    \n",
    "folders = ['train_frames/train', 'train_masks/train', 'val_frames/val', 'val_masks/val', 'test_frames/test', 'test_masks/test']\n",
    "for folder in folders:\n",
    "    try:\n",
    "        os.makedirs(os.path.join(parent_folder, 'data', folder))\n",
    "    except Exception as e: print(e)\n",
    "\n",
    "OUT_TRAIN_IMG_PATH = os.path.join(parent_folder, 'data', folders[0])\n",
    "OUT_TRAIN_MASKS_PATH = os.path.join(parent_folder, 'data', folders[1])\n",
    "OUT_VAL_IMG_PATH = os.path.join(parent_folder, 'data', folders[2])\n",
    "OUT_VAL_MASKS_PATH = os.path.join(parent_folder, 'data', folders[3])\n",
    "OUT_TEST_IMG_PATH = os.path.join(parent_folder, 'data', folders[4])\n",
    "OUT_TEST_MASKS_PATH = os.path.join(parent_folder, 'data', folders[5])"
   ]
  },
  {
   "cell_type": "code",
   "execution_count": null,
   "metadata": {},
   "outputs": [],
   "source": [
    "train_image_path = os.path.join(IMAGE_DIR, 'train')\n",
    "val_image_path = os.path.join(IMAGE_DIR, 'val')\n",
    "test_image_path = os.path.join(IMAGE_DIR, 'test')"
   ]
  },
  {
   "cell_type": "code",
   "execution_count": null,
   "metadata": {},
   "outputs": [],
   "source": [
    "train_coarse_path = os.path.join(COARSE_ANN_DIR, 'train')\n",
    "val_coarse_path = os.path.join(COARSE_ANN_DIR, 'val')"
   ]
  },
  {
   "cell_type": "code",
   "execution_count": null,
   "metadata": {},
   "outputs": [],
   "source": [
    "train_fine_path = os.path.join(FINE_ANN_DIR, 'train')\n",
    "val_fine_path = os.path.join(FINE_ANN_DIR, 'val')\n",
    "test_fine_path = os.path.join(FINE_ANN_DIR, 'test')"
   ]
  },
  {
   "cell_type": "code",
   "execution_count": null,
   "metadata": {},
   "outputs": [],
   "source": [
    "image_size = (256,256)\n",
    "\n",
    "label_colors = {}"
   ]
  },
  {
   "cell_type": "code",
   "execution_count": null,
   "metadata": {},
   "outputs": [],
   "source": [
    "i=0\n",
    "for location_folder in os.listdir(train_image_path):\n",
    "    image_folder = os.path.join(train_image_path, location_folder)\n",
    "    for image in os.listdir(image_folder):\n",
    "        try:\n",
    "            img = Image.open(os.path.join(image_folder, image), mode='r')\n",
    "        except:\n",
    "            continue\n",
    "        img = img.resize(image_size, Image.BICUBIC)\n",
    "        \n",
    "        fine_mask_image_name = image[:-15] + 'gtFine_color.png'\n",
    "        fine_mask_id_name = image[:-15] + 'gtFine_labelIds.png'\n",
    "        try:\n",
    "            fine_mask_id = Image.open(os.path.join(train_fine_path, location_folder, fine_mask_id_name))\n",
    "            fine_mask = Image.open(os.path.join(train_fine_path, location_folder, fine_mask_image_name))\n",
    "        except:\n",
    "            fine_mask = None\n",
    "            fine_mask_id = None\n",
    "         \n",
    "        coarse_mask_image_name = image[:-15] + 'gtCoarse_color.png'\n",
    "        coarse_mask_id_name = image[:-15] + 'gtCoarse_labelIds.png'\n",
    "        try:\n",
    "            coarse_mask_id = Image.open(os.path.join(train_coarse_path, location_folder, coarse_mask_id_name))\n",
    "            coarse_mask = Image.open(os.path.join(train_coarse_path, location_folder, coarse_mask_image_name))\n",
    "        except:\n",
    "            coarse_mask = None\n",
    "            coarse_mask_id = None\n",
    "            \n",
    "        assert coarse_mask is not None and fine_mask is not None\n",
    "        fine_mask = fine_mask if fine_mask is not None else coarse_mask\n",
    "        fine_mask_id = fine_mask_id if fine_mask_id is not None else coarse_mask_id\n",
    "        fine_mask = fine_mask.resize(image_size, Image.NEAREST)\n",
    "        fine_mask_id = fine_mask_id.resize(image_size, Image.NEAREST)\n",
    "        \n",
    "        for x in range(image_size[0]):\n",
    "            for y in range(image_size[1]):\n",
    "                color = fine_mask.getpixel((x,y))\n",
    "                ids = fine_mask_id.getpixel((x,y))\n",
    "                \n",
    "                if color not in label_colors:\n",
    "                    label_colors[color] = ids\n",
    "                    \n",
    "        img.save(OUT_TRAIN_IMG_PATH + \"/{}.png\".format(i))\n",
    "        fine_mask.save(OUT_TRAIN_MASKS_PATH + \"/{}.png\".format(i))\n",
    "        i += 1\n",
    "        \n",
    "        if(i%50==0):\n",
    "            print(i, image, len(label_colors))\n",
    "        "
   ]
  },
  {
   "cell_type": "code",
   "execution_count": null,
   "metadata": {},
   "outputs": [],
   "source": [
    "print(len(os.listdir(OUT_TRAIN_IMG_PATH)))\n",
    "print(len(os.listdir(OUT_TRAIN_MASKS_PATH)))"
   ]
  },
  {
   "cell_type": "code",
   "execution_count": null,
   "metadata": {},
   "outputs": [],
   "source": [
    "s=0\n",
    "for location_folder in os.listdir(train_image_path):\n",
    "    image_folder = os.path.join(train_image_path, location_folder)\n",
    "    s += len(os.listdir(image_folder))\n",
    "\n",
    "print(s)"
   ]
  },
  {
   "cell_type": "code",
   "execution_count": null,
   "metadata": {},
   "outputs": [],
   "source": [
    "i=0\n",
    "for location_folder in os.listdir(val_image_path):\n",
    "    image_folder = os.path.join(val_image_path, location_folder)\n",
    "    for image in os.listdir(image_folder):\n",
    "        try:\n",
    "            img = Image.open(os.path.join(image_folder, image), mode='r')\n",
    "        except:\n",
    "            continue\n",
    "        img = img.resize(image_size, Image.BICUBIC)\n",
    "        \n",
    "        fine_mask_image_name = image[:-15] + 'gtFine_color.png'\n",
    "        fine_mask_id_name = image[:-15] + 'gtFine_labelIds.png'\n",
    "        try:\n",
    "            fine_mask_id = Image.open(os.path.join(val_fine_path, location_folder, fine_mask_id_name))\n",
    "            fine_mask = Image.open(os.path.join(val_fine_path, location_folder, fine_mask_image_name))\n",
    "        except:\n",
    "            fine_mask = None\n",
    "            fine_mask_id = None\n",
    "         \n",
    "        coarse_mask_image_name = image[:-15] + 'gtCoarse_color.png'\n",
    "        coarse_mask_id_name = image[:-15] + 'gtCoarse_labelIds.png'\n",
    "        try:\n",
    "            coarse_mask_id = Image.open(os.path.join(val_coarse_path, location_folder, coarse_mask_id_name))\n",
    "            coarse_mask = Image.open(os.path.join(val_coarse_path, location_folder, coarse_mask_image_name))\n",
    "        except:\n",
    "            coarse_mask = None\n",
    "            coarse_mask_id = None\n",
    "            \n",
    "        assert coarse_mask is not None and fine_mask is not None\n",
    "        fine_mask = fine_mask if fine_mask is not None else coarse_mask\n",
    "        fine_mask_id = fine_mask_id if fine_mask_id is not None else coarse_mask_id\n",
    "        fine_mask = fine_mask.resize(image_size, Image.NEAREST)\n",
    "        fine_mask_id = fine_mask_id.resize(image_size, Image.NEAREST)\n",
    "        \n",
    "        for x in range(image_size[0]):\n",
    "            for y in range(image_size[1]):\n",
    "                color = fine_mask.getpixel((x,y))\n",
    "                ids = fine_mask_id.getpixel((x,y))\n",
    "                \n",
    "                if color not in label_colors:\n",
    "                    label_colors[color] = ids\n",
    "                    \n",
    "        img.save(OUT_VAL_IMG_PATH + \"/{}.png\".format(i))\n",
    "        fine_mask.save(OUT_VAL_MASKS_PATH + \"/{}.png\".format(i))\n",
    "        i += 1\n",
    "        \n",
    "        if(i%50==0):\n",
    "            print(i, image, len(label_colors))\n",
    "        "
   ]
  },
  {
   "cell_type": "code",
   "execution_count": null,
   "metadata": {},
   "outputs": [],
   "source": [
    "print(len(os.listdir(OUT_VAL_IMG_PATH)))\n",
    "print(len(os.listdir(OUT_VAL_MASKS_PATH)))"
   ]
  },
  {
   "cell_type": "code",
   "execution_count": null,
   "metadata": {},
   "outputs": [],
   "source": [
    "i=0\n",
    "for location_folder in os.listdir(test_image_path):\n",
    "    image_folder = os.path.join(test_image_path, location_folder)\n",
    "    for image in os.listdir(image_folder):\n",
    "        try:\n",
    "            img = Image.open(os.path.join(image_folder, image), mode='r')\n",
    "        except:\n",
    "            continue\n",
    "        img = img.resize(image_size, Image.BICUBIC)\n",
    "        \n",
    "        fine_mask_image_name = image[:-15] + 'gtFine_color.png'\n",
    "        fine_mask_id_name = image[:-15] + 'gtFine_labelIds.png'\n",
    "        try:\n",
    "            fine_mask_id = Image.open(os.path.join(test_fine_path, location_folder, fine_mask_id_name))\n",
    "            fine_mask = Image.open(os.path.join(test_fine_path, location_folder, fine_mask_image_name))\n",
    "        except:\n",
    "            fine_mask = None\n",
    "            fine_mask_id = None\n",
    "         \n",
    "        fine_mask = fine_mask.resize(image_size, Image.NEAREST)\n",
    "        fine_mask_id = fine_mask_id.resize(image_size, Image.NEAREST)\n",
    "        \n",
    "        for x in range(image_size[0]):\n",
    "            for y in range(image_size[1]):\n",
    "                color = fine_mask.getpixel((x,y))\n",
    "                ids = fine_mask_id.getpixel((x,y))\n",
    "            \n",
    "                \n",
    "                if color not in label_colors:\n",
    "                    label_colors[color] = ids\n",
    "                    \n",
    "        img.save(OUT_TEST_IMG_PATH + \"/{}.png\".format(i))\n",
    "        fine_mask.save(OUT_TEST_MASKS_PATH + \"/{}.png\".format(i))\n",
    "        i += 1\n",
    "        \n",
    "        if(i%50==0):\n",
    "            print(i, image, len(label_colors))\n",
    "        "
   ]
  },
  {
   "cell_type": "code",
   "execution_count": null,
   "metadata": {},
   "outputs": [],
   "source": [
    "print(len(os.listdir(OUT_TEST_IMG_PATH)))\n",
    "print(len(os.listdir(OUT_TEST_MASKS_PATH)))"
   ]
  },
  {
   "cell_type": "code",
   "execution_count": null,
   "metadata": {},
   "outputs": [],
   "source": [
    "file_name = 'label_colors.txt'"
   ]
  },
  {
   "cell_type": "code",
   "execution_count": null,
   "metadata": {},
   "outputs": [],
   "source": [
    "f = open(os.path.join(parent_folder, file_name), \"w\")\n",
    "for key, value in label_colors.items():\n",
    "    f.write(str(key[0])+\" \"+str(key[1])+\" \"+str(key[2])+\"\\t\"+str(value))\n",
    "    f.write(\"\\n\")"
   ]
  },
  {
   "cell_type": "code",
   "execution_count": null,
   "metadata": {},
   "outputs": [],
   "source": []
  }
 ],
 "metadata": {
  "kernelspec": {
   "display_name": "Python 3",
   "language": "python",
   "name": "python3"
  },
  "language_info": {
   "codemirror_mode": {
    "name": "ipython",
    "version": 3
   },
   "file_extension": ".py",
   "mimetype": "text/x-python",
   "name": "python",
   "nbconvert_exporter": "python",
   "pygments_lexer": "ipython3",
   "version": "3.5.2"
  }
 },
 "nbformat": 4,
 "nbformat_minor": 4
}
