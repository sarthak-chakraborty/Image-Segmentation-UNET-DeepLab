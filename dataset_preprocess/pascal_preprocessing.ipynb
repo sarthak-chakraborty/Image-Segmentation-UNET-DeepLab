{
 "cells": [
  {
   "cell_type": "code",
   "execution_count": null,
   "metadata": {},
   "outputs": [],
   "source": [
    "import os\n",
    "import cv2\n",
    "import numpy as np"
   ]
  },
  {
   "cell_type": "code",
   "execution_count": null,
   "metadata": {},
   "outputs": [],
   "source": [
    "pwd = os.path.join(os.getcwd(), 'VOCdevkit', 'VOC2012')"
   ]
  },
  {
   "cell_type": "code",
   "execution_count": null,
   "metadata": {},
   "outputs": [],
   "source": [
    "print(len(os.listdir(os.path.join(pwd, 'JPEGImages'))))\n",
    "print(len(os.listdir(os.path.join(pwd, 'SegmentationClass'))))\n",
    "print(len(os.listdir(os.path.join(pwd, 'Annotations'))))\n",
    "print(len(os.listdir(os.path.join(pwd, 'ImageSets'))))"
   ]
  },
  {
   "cell_type": "code",
   "execution_count": null,
   "metadata": {},
   "outputs": [],
   "source": [
    "OUT_PATH = os.getcwd()\n",
    "if not os.path.exists(OUT_PATH+'/data'):\n",
    "    os.mkdir(OUT_PATH+'/data')\n",
    "    \n",
    "DATA_PATH = OUT_PATH+'/data/'\n",
    "\n",
    "folders = ['train_frames/train', 'train_masks/train', 'val_frames/val', 'val_masks/val']\n",
    "for folder in folders:\n",
    "    try:\n",
    "        os.makedirs(DATA_PATH + folder)\n",
    "    except Exception as e: print(e)"
   ]
  },
  {
   "cell_type": "code",
   "execution_count": null,
   "metadata": {},
   "outputs": [],
   "source": [
    "def read_voc_images(voc_dir, is_train=True):\n",
    "    \"\"\"Read all VOC feature and label images.\"\"\"\n",
    "    txt_fname = os.path.join(voc_dir, 'ImageSets', 'Segmentation',\n",
    "                             'train.txt' if is_train else 'val.txt')\n",
    "    with open(txt_fname, 'r') as f:\n",
    "        images = f.read().split()\n",
    "    print(len(images))\n",
    "    features, labels = [], []\n",
    "    \n",
    "    TRAIN_IMG_PATH = DATA_PATH+'train_frames/train/'\n",
    "    TRAIN_MASK_PATH = DATA_PATH+'train_masks/train/'\n",
    "    VAL_IMG_PATH = DATA_PATH+'val_frames/val/'\n",
    "    VAL_MASK_PATH = DATA_PATH+'val_masks/val/'\n",
    "    \n",
    "    img_path = TRAIN_IMG_PATH if is_train else VAL_IMG_PATH\n",
    "    mask_path = TRAIN_MASK_PATH if is_train else VAL_MASK_PATH\n",
    "    \n",
    "    for i, fname in enumerate(images):\n",
    "        img = cv2.imread(os.path.join(voc_dir, 'JPEGImages', '{}.jpg'.format(fname)))\n",
    "        mask = cv2.imread(os.path.join(voc_dir, 'SegmentationClass', '{}.png'.format(fname)))\n",
    "        cv2.imwrite(img_path+ '{}.png'.format(fname), img)\n",
    "        cv2.imwrite(mask_path+'{}.png'.format(fname), mask)\n",
    "\n",
    "read_voc_images(pwd, True)  # train images\n",
    "read_voc_images(pwd, False)  # val images"
   ]
  },
  {
   "cell_type": "code",
   "execution_count": null,
   "metadata": {},
   "outputs": [],
   "source": [
    "VOC_COLORMAP = [[0, 0, 0], [128, 0, 0], [0, 128, 0], [128, 128, 0],\n",
    "                [0, 0, 128], [128, 0, 128], [0, 128, 128], [128, 128, 128],\n",
    "                [64, 0, 0], [192, 0, 0], [64, 128, 0], [192, 128, 0],\n",
    "                [64, 0, 128], [192, 0, 128], [64, 128, 128], [192, 128, 128],\n",
    "                [0, 64, 0], [128, 64, 0], [0, 192, 0], [128, 192, 0],\n",
    "                [0, 64, 128]]\n",
    "\n",
    "VOC_CLASSES = ['background', 'aeroplane', 'bicycle', 'bird', 'boat',\n",
    "               'bottle', 'bus', 'car', 'cat', 'chair', 'cow',\n",
    "               'diningtable', 'dog', 'horse', 'motorbike', 'person',\n",
    "               'potted plant', 'sheep', 'sofa', 'train', 'tv/monitor']"
   ]
  },
  {
   "cell_type": "code",
   "execution_count": null,
   "metadata": {},
   "outputs": [],
   "source": [
    "file_name = 'label_colors.txt'\n",
    "\n",
    "f = open(os.path.join(DATA_PATH, file_name), \"w\")\n",
    "for i in range(len(VOC_COLORMAP)):\n",
    "    f.write(str(VOC_COLORMAP[i][0])+\" \"+str(VOC_COLORMAP[i][1])+\" \"+str(VOC_COLORMAP[i][2])+\"\\t\"+VOC_CLASSES[i])\n",
    "    f.write(\"\\n\")"
   ]
  }
 ],
 "metadata": {
  "kernelspec": {
   "display_name": "Python 3",
   "language": "python",
   "name": "python3"
  },
  "language_info": {
   "codemirror_mode": {
    "name": "ipython",
    "version": 3
   },
   "file_extension": ".py",
   "mimetype": "text/x-python",
   "name": "python",
   "nbconvert_exporter": "python",
   "pygments_lexer": "ipython3",
   "version": "3.5.2"
  }
 },
 "nbformat": 4,
 "nbformat_minor": 4
}
